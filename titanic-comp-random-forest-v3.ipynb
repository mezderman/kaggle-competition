{
 "cells": [
  {
   "cell_type": "code",
   "execution_count": 1,
   "id": "0e0e1b3f-3242-41d6-8ba0-99a815620aa4",
   "metadata": {},
   "outputs": [
    {
     "name": "stdout",
     "output_type": "stream",
     "text": [
      "(891, 13)\n",
      "PassengerId      int64\n",
      "Survived         int64\n",
      "Pclass           int64\n",
      "Name            object\n",
      "Sex             object\n",
      "Age            float64\n",
      "SibSp            int64\n",
      "Parch            int64\n",
      "Ticket          object\n",
      "Fare           float64\n",
      "Cabin           object\n",
      "Embarked        object\n",
      "isTrainSet        bool\n",
      "dtype: object\n"
     ]
    },
    {
     "data": {
      "text/html": [
       "<div>\n",
       "<style scoped>\n",
       "    .dataframe tbody tr th:only-of-type {\n",
       "        vertical-align: middle;\n",
       "    }\n",
       "\n",
       "    .dataframe tbody tr th {\n",
       "        vertical-align: top;\n",
       "    }\n",
       "\n",
       "    .dataframe thead th {\n",
       "        text-align: right;\n",
       "    }\n",
       "</style>\n",
       "<table border=\"1\" class=\"dataframe\">\n",
       "  <thead>\n",
       "    <tr style=\"text-align: right;\">\n",
       "      <th></th>\n",
       "      <th>PassengerId</th>\n",
       "      <th>Survived</th>\n",
       "      <th>Pclass</th>\n",
       "      <th>Name</th>\n",
       "      <th>Sex</th>\n",
       "      <th>Age</th>\n",
       "      <th>SibSp</th>\n",
       "      <th>Parch</th>\n",
       "      <th>Ticket</th>\n",
       "      <th>Fare</th>\n",
       "      <th>Cabin</th>\n",
       "      <th>Embarked</th>\n",
       "      <th>isTrainSet</th>\n",
       "    </tr>\n",
       "  </thead>\n",
       "  <tbody>\n",
       "    <tr>\n",
       "      <th>339</th>\n",
       "      <td>340</td>\n",
       "      <td>0</td>\n",
       "      <td>1</td>\n",
       "      <td>Blackwell, Mr. Stephen Weart</td>\n",
       "      <td>male</td>\n",
       "      <td>45.00</td>\n",
       "      <td>0</td>\n",
       "      <td>0</td>\n",
       "      <td>113784</td>\n",
       "      <td>35.5000</td>\n",
       "      <td>T</td>\n",
       "      <td>S</td>\n",
       "      <td>True</td>\n",
       "    </tr>\n",
       "    <tr>\n",
       "      <th>836</th>\n",
       "      <td>837</td>\n",
       "      <td>0</td>\n",
       "      <td>3</td>\n",
       "      <td>Pasic, Mr. Jakob</td>\n",
       "      <td>male</td>\n",
       "      <td>21.00</td>\n",
       "      <td>0</td>\n",
       "      <td>0</td>\n",
       "      <td>315097</td>\n",
       "      <td>8.6625</td>\n",
       "      <td>NaN</td>\n",
       "      <td>S</td>\n",
       "      <td>True</td>\n",
       "    </tr>\n",
       "    <tr>\n",
       "      <th>308</th>\n",
       "      <td>1200</td>\n",
       "      <td>NA</td>\n",
       "      <td>1</td>\n",
       "      <td>Hays, Mr. Charles Melville</td>\n",
       "      <td>male</td>\n",
       "      <td>55.00</td>\n",
       "      <td>1</td>\n",
       "      <td>1</td>\n",
       "      <td>12749</td>\n",
       "      <td>93.5000</td>\n",
       "      <td>B69</td>\n",
       "      <td>S</td>\n",
       "      <td>False</td>\n",
       "    </tr>\n",
       "    <tr>\n",
       "      <th>831</th>\n",
       "      <td>832</td>\n",
       "      <td>1</td>\n",
       "      <td>2</td>\n",
       "      <td>Richards, Master. George Sibley</td>\n",
       "      <td>male</td>\n",
       "      <td>0.83</td>\n",
       "      <td>1</td>\n",
       "      <td>1</td>\n",
       "      <td>29106</td>\n",
       "      <td>18.7500</td>\n",
       "      <td>NaN</td>\n",
       "      <td>S</td>\n",
       "      <td>True</td>\n",
       "    </tr>\n",
       "    <tr>\n",
       "      <th>848</th>\n",
       "      <td>849</td>\n",
       "      <td>0</td>\n",
       "      <td>2</td>\n",
       "      <td>Harper, Rev. John</td>\n",
       "      <td>male</td>\n",
       "      <td>28.00</td>\n",
       "      <td>0</td>\n",
       "      <td>1</td>\n",
       "      <td>248727</td>\n",
       "      <td>33.0000</td>\n",
       "      <td>NaN</td>\n",
       "      <td>S</td>\n",
       "      <td>True</td>\n",
       "    </tr>\n",
       "  </tbody>\n",
       "</table>\n",
       "</div>"
      ],
      "text/plain": [
       "     PassengerId Survived  Pclass                             Name   Sex  \\\n",
       "339          340        0       1     Blackwell, Mr. Stephen Weart  male   \n",
       "836          837        0       3                 Pasic, Mr. Jakob  male   \n",
       "308         1200       NA       1       Hays, Mr. Charles Melville  male   \n",
       "831          832        1       2  Richards, Master. George Sibley  male   \n",
       "848          849        0       2                Harper, Rev. John  male   \n",
       "\n",
       "       Age  SibSp  Parch  Ticket     Fare Cabin Embarked  isTrainSet  \n",
       "339  45.00      0      0  113784  35.5000     T        S        True  \n",
       "836  21.00      0      0  315097   8.6625   NaN        S        True  \n",
       "308  55.00      1      1   12749  93.5000   B69        S       False  \n",
       "831   0.83      1      1   29106  18.7500   NaN        S        True  \n",
       "848  28.00      0      1  248727  33.0000   NaN        S        True  "
      ]
     },
     "execution_count": 1,
     "metadata": {},
     "output_type": "execute_result"
    }
   ],
   "source": [
    "import pandas as pd\n",
    "import matplotlib.pyplot as plt\n",
    "import seaborn as sns\n",
    "\n",
    "\n",
    "df_train = pd.read_csv(\"data/train.csv\")\n",
    "df_test = pd.read_csv(\"data/test.csv\")\n",
    "\n",
    "df_train[\"isTrainSet\"]= True\n",
    "df_test[\"isTrainSet\"]= False\n",
    "df_test[\"Survived\"] = \"NA\"\n",
    "\n",
    "df_combined = pd.concat([df_train, df_test], axis=0)\n",
    "\n",
    "print(df_train.shape)\n",
    "print(df_train.dtypes)\n",
    "\n",
    "df_combined.sample(5)\n"
   ]
  },
  {
   "cell_type": "code",
   "execution_count": 2,
   "id": "fac437de-22ac-406a-b779-0ed1b5fea105",
   "metadata": {},
   "outputs": [
    {
     "name": "stdout",
     "output_type": "stream",
     "text": [
      "Pclass  Sex   \n",
      "1       female    37.037594\n",
      "        male      41.029272\n",
      "2       female    27.499223\n",
      "        male      30.815380\n",
      "3       female    22.185329\n",
      "        male      25.962264\n",
      "Name: Age, dtype: float64\n",
      "0\n"
     ]
    }
   ],
   "source": [
    "# #Fill in Age by Calculate mean age for each Pclass and Sex combination\n",
    "mean_age_by_pclass_sex = df_combined.groupby(['Pclass', 'Sex'])['Age'].mean()\n",
    "\n",
    "print(mean_age_by_pclass_sex)\n",
    "\n",
    "# Function to fill missing age values\n",
    "def fill_missing_age(row, mean_age_by_pclass_sex):\n",
    "    if pd.isnull(row['Age']):\n",
    "        return mean_age_by_pclass_sex.loc[row['Pclass'], row['Sex']]\n",
    "    else:\n",
    "        return row['Age']\n",
    "\n",
    "# Apply the function to the DataFrame\n",
    "df_combined['Age'] = df_combined.apply(lambda row: fill_missing_age(row, mean_age_by_pclass_sex), axis=1)\n",
    "\n",
    "# Verify that there are no more missing values in Age\n",
    "print(df_combined['Age'].isnull().sum())"
   ]
  },
  {
   "cell_type": "code",
   "execution_count": 3,
   "id": "8878b215-90ea-4723-9e9d-a7d728e866ec",
   "metadata": {},
   "outputs": [],
   "source": [
    "# Mapping Age\n",
    "df_combined.loc[df_combined['Age'] <= 13, 'Age_group'] = 0 # kids\n",
    "df_combined.loc[(df_combined['Age'] > 13) & (df_combined['Age'] <= 30), 'Age_group'] = 1 # young\n",
    "df_combined.loc[(df_combined['Age'] > 30) & (df_combined['Age'] <= 45), 'Age_group'] = 2 # mature1\n",
    "df_combined.loc[(df_combined['Age'] > 45) & (df_combined['Age'] <= 60), 'Age_group'] = 3 # old\n",
    "df_combined.loc[(df_combined['Age'] > 60) & (df_combined['Age'] <= 100), 'Age_group'] = 4 # very old"
   ]
  },
  {
   "cell_type": "code",
   "execution_count": 4,
   "id": "94612629-985e-400e-adb3-440294c738d7",
   "metadata": {},
   "outputs": [
    {
     "name": "stdout",
     "output_type": "stream",
     "text": [
      "The most frequent value in the 'Embarked' column is: S\n",
      "0\n"
     ]
    }
   ],
   "source": [
    "#Extract Embarked\n",
    "\n",
    "\n",
    "# Find the most frequent value in the 'Embarked' column\n",
    "most_frequent_embarked = df_combined['Embarked'].mode()[0]\n",
    "\n",
    "# Display the most frequent value for verification\n",
    "print(f\"The most frequent value in the 'Embarked' column is: {most_frequent_embarked}\")\n",
    "\n",
    "# Fill missing values in the 'Embarked' column with the most frequent value\n",
    "df_combined['Embarked'].fillna(most_frequent_embarked, inplace=True)\n",
    "\n",
    "# Verify that there are no more missing values in the 'Embarked' column\n",
    "print(df_combined['Embarked'].isnull().sum())"
   ]
  },
  {
   "cell_type": "code",
   "execution_count": 5,
   "id": "16410d34-b01b-495d-ba7f-fcbda848ee7b",
   "metadata": {},
   "outputs": [],
   "source": [
    "med_fare = df_combined.groupby(['Pclass', 'Parch', 'SibSp']).Fare.median()[3][0][0]\n",
    "# Filling the missing value in Fare with the median Fare of 3rd class alone passenger\n",
    "df_combined['Fare'] = df_combined['Fare'].fillna(med_fare)"
   ]
  },
  {
   "cell_type": "code",
   "execution_count": 6,
   "id": "e62bdea3-fdc1-40a2-a2ca-b54b42fdeb9b",
   "metadata": {},
   "outputs": [
    {
     "name": "stdout",
     "output_type": "stream",
     "text": [
      "Pclass    1    2    3\n",
      "Deck                 \n",
      "A        22    0    0\n",
      "B        65    0    0\n",
      "C        94    0    0\n",
      "D        40    6    0\n",
      "E        34    4    3\n",
      "F         0   13    8\n",
      "G         0    0    5\n",
      "T         1    0    0\n",
      "Unknown  67  254  693\n"
     ]
    }
   ],
   "source": [
    "# Fill missing values in the 'Cabin' column with a placeholder\n",
    "df_combined['Cabin'].fillna('Unknown', inplace=True)\n",
    "\n",
    "# Extract the deck information from the 'Cabin' column\n",
    "df_combined['Deck'] = df_combined['Cabin'].apply(lambda x: x[0] if x != 'Unknown' else 'Unknown')\n",
    "\n",
    "# Ensure 'Survived' is numeric\n",
    "df_combined['Survived'] = pd.to_numeric(df_combined['Survived'], errors='coerce')\n",
    "\n",
    "# Group by Deck and Pclass to count the frequencies\n",
    "deck_pclass_distribution = df_combined.groupby(['Deck', 'Pclass']).size().unstack(fill_value=0)\n",
    "\n",
    "# Display the distribution\n",
    "print(deck_pclass_distribution)"
   ]
  },
  {
   "cell_type": "code",
   "execution_count": 7,
   "id": "f9512da8-5eed-4ca1-a4a8-b2f35ad6eb65",
   "metadata": {},
   "outputs": [
    {
     "name": "stdout",
     "output_type": "stream",
     "text": [
      "Title\n",
      "Mr                          757\n",
      "Miss/Mrs/Ms                 465\n",
      "Master                       61\n",
      "Dr/Military/Noble/Clergy     26\n",
      "Name: count, dtype: int64\n"
     ]
    }
   ],
   "source": [
    "# Extract titles from the Name column\n",
    "df_combined['Title'] = df_combined['Name'].str.extract(' ([A-Za-z]+)\\.', expand=False)\n",
    "\n",
    "# # Simplify titles\n",
    "df_combined['Title'] = df_combined['Title'].replace(['Miss', 'Mrs','Ms', 'Countess','Mlle', 'Lady', 'Mme', 'the Countess', 'Dona'], 'Miss/Mrs/Ms')\n",
    "df_combined['Title'] = df_combined['Title'].replace(['Dr', 'Col', 'Major', 'Jonkheer', 'Capt', 'Sir', 'Don', 'Rev'], 'Dr/Military/Noble/Clergy')\n",
    "\n",
    "\n",
    "print(df_combined['Title'].value_counts())"
   ]
  },
  {
   "cell_type": "code",
   "execution_count": 8,
   "id": "3d4647ee-61f5-4ce7-adb4-05aef2d38e1e",
   "metadata": {},
   "outputs": [],
   "source": [
    "df_combined['Ticket_Frequency'] = df_combined.groupby('Ticket')['Ticket'].transform('count')"
   ]
  },
  {
   "cell_type": "code",
   "execution_count": 9,
   "id": "7ea7f2e3-7996-4855-9e0e-760708d92c5f",
   "metadata": {},
   "outputs": [],
   "source": [
    "df_combined['Family_Size'] = df_combined['SibSp'] + df_combined['Parch'] + 1\n",
    "\n",
    "family_map = {1: 'Alone', 2: 'Small', 3: 'Small', 4: 'Small', 5: 'Medium', 6: 'Medium', 7: 'Large', 8: 'Large', 11: 'Large'}\n",
    "df_combined['Family_Size_Grouped'] = df_combined['Family_Size'].map(family_map)"
   ]
  },
  {
   "cell_type": "code",
   "execution_count": 10,
   "id": "0e4f47d5-7b90-4633-acc6-b673522f83da",
   "metadata": {},
   "outputs": [
    {
     "name": "stdout",
     "output_type": "stream",
     "text": [
      "medium Fare for Sex = male and Pclass=3:  7.8958\n"
     ]
    }
   ],
   "source": [
    "# fill with the median Fare for the Pclass = 3 and Sex= male.\n",
    "import numpy as np\n",
    "\n",
    "Fare_Pclass3_male = df_combined.loc[(df_combined['Pclass'] == 3) & (df_combined['Sex'] == 'male'), 'Fare'].median()\n",
    "df_combined.loc[df_combined['PassengerId'] == 1044, 'Fare'] = df_combined.loc[(df_combined['Pclass'] == 3) & (df_combined['Sex'] == 'male'), 'Fare'].median()\n",
    "print(\"medium Fare for Sex = male and Pclass=3: \", Fare_Pclass3_male)\n",
    "\n",
    "# Divide Fare in 10 levels\n",
    "n = 10\n",
    "df_combined['Fare_level'] = pd.cut(df_combined['Fare'], n, labels=np.arange(1,n+1))\n",
    "df_combined['Fare_range'] = pd.cut(df_combined['Fare'], n)"
   ]
  },
  {
   "cell_type": "code",
   "execution_count": 11,
   "id": "b72ad29e-4754-45fc-9c9e-0b53cccf31bf",
   "metadata": {},
   "outputs": [
    {
     "name": "stdout",
     "output_type": "stream",
     "text": [
      "<class 'pandas.core.frame.DataFrame'>\n",
      "Index: 1309 entries, 0 to 417\n",
      "Data columns (total 21 columns):\n",
      " #   Column               Non-Null Count  Dtype   \n",
      "---  ------               --------------  -----   \n",
      " 0   PassengerId          1309 non-null   int64   \n",
      " 1   Survived             891 non-null    float64 \n",
      " 2   Pclass               1309 non-null   int64   \n",
      " 3   Name                 1309 non-null   object  \n",
      " 4   Sex                  1309 non-null   object  \n",
      " 5   Age                  1309 non-null   float64 \n",
      " 6   SibSp                1309 non-null   int64   \n",
      " 7   Parch                1309 non-null   int64   \n",
      " 8   Ticket               1309 non-null   object  \n",
      " 9   Fare                 1309 non-null   float64 \n",
      " 10  Cabin                1309 non-null   object  \n",
      " 11  Embarked             1309 non-null   object  \n",
      " 12  isTrainSet           1309 non-null   bool    \n",
      " 13  Age_group            1309 non-null   float64 \n",
      " 14  Deck                 1309 non-null   object  \n",
      " 15  Title                1309 non-null   object  \n",
      " 16  Ticket_Frequency     1309 non-null   int64   \n",
      " 17  Family_Size          1309 non-null   int64   \n",
      " 18  Family_Size_Grouped  1309 non-null   object  \n",
      " 19  Fare_level           1309 non-null   category\n",
      " 20  Fare_range           1309 non-null   category\n",
      "dtypes: bool(1), category(2), float64(4), int64(6), object(8)\n",
      "memory usage: 199.0+ KB\n"
     ]
    }
   ],
   "source": [
    "\n",
    "df_combined.info()"
   ]
  },
  {
   "cell_type": "code",
   "execution_count": 12,
   "id": "1df3a030-724d-4fca-bcec-8b668013629c",
   "metadata": {},
   "outputs": [],
   "source": [
    "from sklearn.model_selection import train_test_split, GridSearchCV, cross_val_score\n",
    "from sklearn.preprocessing import OneHotEncoder, StandardScaler\n",
    "from sklearn.compose import ColumnTransformer\n",
    "from sklearn.pipeline import Pipeline\n",
    "from sklearn.ensemble import GradientBoostingClassifier\n",
    "from sklearn.tree import DecisionTreeClassifier, plot_tree, export_graphviz\n",
    "from sklearn.metrics import precision_score, recall_score, f1_score, classification_report\n",
    "\n",
    "# Filter the dataset to only include the training set\n",
    "train_data = df_combined[df_combined['isTrainSet'] == True]\n",
    "\n",
    "# Select the features and the target variable\n",
    "features = ['Pclass', 'Sex', 'Age', 'Age_group', 'Embarked', 'Title', 'Ticket_Frequency', 'Family_Size_Grouped', 'Fare', 'SibSp', 'Parch']\n",
    "target = 'Survived'\n",
    "\n",
    "# Drop unnecessary columns\n",
    "train_data = train_data[features + [target]]\n",
    "\n",
    "# One-hot encode categorical features\n",
    "categorical_features = ['Sex', 'Embarked', 'Title', 'Family_Size_Grouped']\n",
    "numeric_features = ['Pclass', 'Age', 'Ticket_Frequency', 'Fare', 'Age_group', 'SibSp', 'Parch']\n",
    "\n",
    "# Preprocessing pipelines for both numeric and categorical data\n",
    "numeric_transformer = Pipeline(steps=[\n",
    "    ('scaler', StandardScaler())\n",
    "])\n",
    "\n",
    "categorical_transformer = Pipeline(steps=[\n",
    "    ('onehot', OneHotEncoder(handle_unknown='ignore'))\n",
    "])\n",
    "\n",
    "# Combine preprocessing steps\n",
    "preprocessor = ColumnTransformer(\n",
    "    transformers=[\n",
    "        ('num', numeric_transformer, numeric_features),\n",
    "        ('cat', categorical_transformer, categorical_features)\n",
    "    ])\n",
    "\n",
    "# Create and evaluate the model\n",
    "X = train_data[features]\n",
    "y = train_data[target]\n",
    "\n",
    "# Split into training and evaluation sets\n",
    "X_train, X_eval, y_train, y_eval = train_test_split(X, y, test_size=0.3, random_state=42)"
   ]
  },
  {
   "cell_type": "code",
   "execution_count": 13,
   "id": "b64e008b-0400-4a20-981c-fdf833833eed",
   "metadata": {},
   "outputs": [
    {
     "name": "stdout",
     "output_type": "stream",
     "text": [
      "Best parameters: {'classifier__learning_rate': 0.01, 'classifier__max_depth': 7, 'classifier__max_features': 'sqrt', 'classifier__min_samples_leaf': 2, 'classifier__min_samples_split': 5, 'classifier__n_estimators': 200, 'classifier__subsample': 0.8}\n",
      "Best training score: 0.8347483870967741\n",
      "\n",
      "Evaluation metrics:\n",
      "Accuracy: 0.8209\n",
      "Precision: 0.8539\n",
      "Recall: 0.6847\n",
      "F1-score: 0.7600\n",
      "\n",
      "Classification Report:\n",
      "              precision    recall  f1-score   support\n",
      "\n",
      "         0.0       0.80      0.92      0.86       157\n",
      "         1.0       0.85      0.68      0.76       111\n",
      "\n",
      "    accuracy                           0.82       268\n",
      "   macro avg       0.83      0.80      0.81       268\n",
      "weighted avg       0.82      0.82      0.82       268\n",
      "\n"
     ]
    }
   ],
   "source": [
    "from sklearn.model_selection import train_test_split, GridSearchCV\n",
    "from sklearn.preprocessing import OneHotEncoder, StandardScaler\n",
    "from sklearn.compose import ColumnTransformer\n",
    "from sklearn.pipeline import Pipeline\n",
    "from sklearn.ensemble import GradientBoostingClassifier\n",
    "from sklearn.metrics import accuracy_score, classification_report, precision_score, recall_score, f1_score\n",
    "\n",
    "# ... (keep all the data preparation steps the same) ...\n",
    "\n",
    "# Define the parameter grid for Grid Search\n",
    "param_grid = {\n",
    "    'classifier__n_estimators': [100, 200, 300],\n",
    "    'classifier__learning_rate': [0.01, 0.1, 0.2],\n",
    "    'classifier__max_depth': [3, 5, 7],\n",
    "    'classifier__min_samples_split': [2, 5],\n",
    "    'classifier__min_samples_leaf': [1, 2, 4],\n",
    "    'classifier__subsample': [0.8, 1.0],\n",
    "    'classifier__max_features': ['sqrt', 'log2']\n",
    "}\n",
    "\n",
    "# Initialize the Gradient Boosting model\n",
    "pipeline = Pipeline(steps=[('preprocessor', preprocessor),\n",
    "                           ('classifier', GradientBoostingClassifier(random_state=42))])\n",
    "\n",
    "# Initialize Grid Search\n",
    "grid_search = GridSearchCV(estimator=pipeline, param_grid=param_grid, cv=5, n_jobs=-1, scoring='accuracy')\n",
    "\n",
    "# Fit Grid Search to the data\n",
    "model_grid = grid_search.fit(X_train, y_train)\n",
    "\n",
    "# Print the best parameters and the best score\n",
    "print(f\"Best parameters: {model_grid.best_params_}\")\n",
    "print(f\"Best training score: {model_grid.best_score_}\")\n",
    "\n",
    "# Evaluate the model on the evaluation set\n",
    "y_pred = model_grid.predict(X_eval)\n",
    "print(\"\\nEvaluation metrics:\")\n",
    "print(f\"Accuracy: {accuracy_score(y_eval, y_pred):.4f}\")\n",
    "print(f\"Precision: {precision_score(y_eval, y_pred):.4f}\")\n",
    "print(f\"Recall: {recall_score(y_eval, y_pred):.4f}\")\n",
    "print(f\"F1-score: {f1_score(y_eval, y_pred):.4f}\")\n",
    "print(\"\\nClassification Report:\")\n",
    "print(classification_report(y_eval, y_pred))"
   ]
  },
  {
   "cell_type": "code",
   "execution_count": 14,
   "id": "0d642ee7-d80f-419d-bab1-1c2b45a0e722",
   "metadata": {},
   "outputs": [
    {
     "name": "stdout",
     "output_type": "stream",
     "text": [
      "Validation accuracy: 0.8208955223880597\n"
     ]
    }
   ],
   "source": [
    "# Evaluate on the validation set\n",
    "best_rf_model = model_grid.best_estimator_\n",
    "y_pred = best_rf_model.predict(X_eval)\n",
    "\n",
    "accuracy = accuracy_score(y_eval, y_pred)\n",
    "print(f\"Validation accuracy: {accuracy}\")"
   ]
  },
  {
   "cell_type": "code",
   "execution_count": 15,
   "id": "3c44b91c-a517-47f7-8c78-5ddcfcc7ebdf",
   "metadata": {},
   "outputs": [
    {
     "name": "stdout",
     "output_type": "stream",
     "text": [
      "Random Forest Cross-Validation Results:\n",
      "Train Accuracy Score: 0.91 (+/- 0.01)\n",
      "Test Accuracy Score: 0.84 (+/- 0.09)\n"
     ]
    }
   ],
   "source": [
    "from sklearn.model_selection import cross_validate\n",
    "from sklearn.metrics import accuracy_score\n",
    "\n",
    "# Define the scoring\n",
    "scoring = 'accuracy'\n",
    "\n",
    "# Perform k-fold cross-validation for Random Forest\n",
    "rf_cv_results = cross_validate(best_rf_model, X_train, y_train, cv=10, scoring=scoring, return_train_score=True)\n",
    "print(\"Random Forest Cross-Validation Results:\")\n",
    "print(f\"Train Accuracy Score: {rf_cv_results['train_score'].mean():.2f} (+/- {rf_cv_results['train_score'].std() * 2:.2f})\")\n",
    "print(f\"Test Accuracy Score: {rf_cv_results['test_score'].mean():.2f} (+/- {rf_cv_results['test_score'].std() * 2:.2f})\")"
   ]
  },
  {
   "cell_type": "code",
   "execution_count": 16,
   "id": "9ff48c11-f5c3-4e7f-946f-5917a1ee36a3",
   "metadata": {},
   "outputs": [
    {
     "name": "stdout",
     "output_type": "stream",
     "text": [
      "Length of preprocessed_feature_names: 20\n",
      "Length of feature_importances: 20\n",
      "     Pclass     Sex        Age  Age_group Embarked        Title  \\\n",
      "445       1    male   4.000000        0.0        S       Master   \n",
      "650       3    male  25.962264        1.0        S           Mr   \n",
      "172       3  female   1.000000        0.0        S  Miss/Mrs/Ms   \n",
      "450       2    male  36.000000        2.0        S           Mr   \n",
      "314       2    male  43.000000        2.0        S           Mr   \n",
      "\n",
      "     Ticket_Frequency Family_Size_Grouped     Fare  SibSp  Parch  \n",
      "445                 3               Small  81.8583      0      2  \n",
      "650                 1               Alone   7.8958      0      0  \n",
      "172                 3               Small  11.1333      1      1  \n",
      "450                 4               Small  27.7500      1      2  \n",
      "314                 3               Small  26.2500      1      1  \n"
     ]
    },
    {
     "data": {
      "image/png": "[encoded data removed]",
      "text/plain": [
       "<Figure size 1200x800 with 1 Axes>"
      ]
     },
     "metadata": {},
     "output_type": "display_data"
    }
   ],
   "source": [
    "rf_model = best_rf_model.named_steps['classifier']\n",
    "\n",
    "# Get the feature importances from the RandomForest model\n",
    "feature_importances = rf_model.feature_importances_\n",
    "\n",
    "# Get the feature names after preprocessing\n",
    "preprocessed_feature_names = best_rf_model.named_steps['preprocessor'].get_feature_names_out()\n",
    "\n",
    "\n",
    "\n",
    "# Print the lengths to verify\n",
    "print(f\"Length of preprocessed_feature_names: {len(preprocessed_feature_names)}\")\n",
    "print(f\"Length of feature_importances: {len(feature_importances)}\")\n",
    "\n",
    "# Check the first few rows of the training data\n",
    "print(X_train.head())\n",
    "\n",
    "# Return the indices of the sorted importances\n",
    "indices = np.argsort(feature_importances)\n",
    "\n",
    "# Create a bar chart\n",
    "plt.figure(figsize=(12, 8))\n",
    "plt.barh(range(len(indices)), feature_importances[indices], align='center')\n",
    "\n",
    "# Label the plot\n",
    "plt.title('Feature Importance', fontsize=20)\n",
    "plt.xlabel('Relative Importance', fontsize=15)\n",
    "plt.ylabel('Feature', fontsize=17)\n",
    "plt.yticks(range(len(indices)), [preprocessed_feature_names[i] for i in indices])\n",
    "\n",
    "# Display the plot\n",
    "plt.show()"
   ]
  },
  {
   "cell_type": "code",
   "execution_count": 17,
   "id": "feef8040-dfee-4f55-acb9-67e0b7576064",
   "metadata": {},
   "outputs": [
    {
     "name": "stdout",
     "output_type": "stream",
     "text": [
      "   PassengerId  Survived\n",
      "0          892         0\n",
      "1          893         0\n",
      "2          894         0\n",
      "3          895         0\n",
      "4          896         1\n"
     ]
    },
    {
     "data": {
      "text/plain": [
       "418"
      ]
     },
     "execution_count": 17,
     "metadata": {},
     "output_type": "execute_result"
    }
   ],
   "source": [
    "# Filter the dataset to only include the test set\n",
    "test_data = df_combined[df_combined['isTrainSet'] == False]\n",
    "\n",
    "# Preprocess the test data\n",
    "X_test = test_data[features]\n",
    "\n",
    "#Use the trained model to predict the survival status for the test set\n",
    "y_pred_test = best_rf_model.predict(X_test)\n",
    "\n",
    "# Convert predictions to integer type\n",
    "y_pred_test = y_pred_test.astype(int)\n",
    "\n",
    "# Create a DataFrame with 'PassengerId' and 'Survived' columns\n",
    "result_df = pd.DataFrame({\n",
    "    'PassengerId': test_data['PassengerId'],\n",
    "    'Survived': y_pred_test\n",
    "})\n",
    "\n",
    "# Display the results\n",
    "print(result_df.head())\n",
    "\n",
    "result_df.to_csv('titanic_test_predictions.csv', index=False)\n",
    "\n",
    "len(result_df)"
   ]
  },
  {
   "cell_type": "code",
   "execution_count": 18,
   "id": "f0ba9275-5357-4d3e-875a-b9cbd7968aaf",
   "metadata": {},
   "outputs": [
    {
     "name": "stdout",
     "output_type": "stream",
     "text": [
      "Differences between the two DataFrames:\n",
      "     Survived\n",
      "1         0.0\n",
      "20        1.0\n",
      "23        1.0\n",
      "33        0.0\n",
      "34        1.0\n",
      "90        0.0\n",
      "104       0.0\n",
      "177       1.0\n",
      "225       0.0\n",
      "234       1.0\n",
      "236       1.0\n",
      "249       0.0\n",
      "309       0.0\n",
      "313       0.0\n",
      "339       1.0\n",
      "382       0.0\n",
      "412       0.0\n",
      "417       1.0\n"
     ]
    }
   ],
   "source": [
    "import pandas as pd\n",
    "\n",
    "# Load the CSV files into DataFrames\n",
    "df1 = pd.read_csv('titanic_test_predictions.csv')\n",
    "df2 = pd.read_csv('titanic_test_predictions1.csv')\n",
    "\n",
    "# Ensure the dataframes are aligned\n",
    "df1 = df1.sort_values(by='PassengerId').reset_index(drop=True)\n",
    "df2 = df2.sort_values(by='PassengerId').reset_index(drop=True)\n",
    "\n",
    "# Check for differences\n",
    "diff = df1[df1 != df2]\n",
    "\n",
    "# Drop rows and columns where there are no differences\n",
    "diff = diff.dropna(how='all').dropna(axis=1, how='all')\n",
    "\n",
    "# Display the differences\n",
    "print(\"Differences between the two DataFrames:\")\n",
    "print(diff)"
   ]
  },
  {
   "cell_type": "code",
   "execution_count": null,
   "id": "f5a5622c-6868-4b5e-8e4a-62ad3f4e1886",
   "metadata": {},
   "outputs": [],
   "source": []
  }
 ],
 "metadata": {
  "kernelspec": {
   "display_name": "Python 3 (ipykernel)",
   "language": "python",
   "name": "python3"
  },
  "language_info": {
   "codemirror_mode": {
    "name": "ipython",
    "version": 3
   },
   "file_extension": ".py",
   "mimetype": "text/x-python",
   "name": "python",
   "nbconvert_exporter": "python",
   "pygments_lexer": "ipython3",
   "version": "3.9.18"
  }
 },
 "nbformat": 4,
 "nbformat_minor": 5
}
